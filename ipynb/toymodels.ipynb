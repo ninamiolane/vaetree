{
 "cells": [
  {
   "cell_type": "code",
   "execution_count": 334,
   "metadata": {},
   "outputs": [],
   "source": [
    "import glob\n",
    "import logging\n",
    "import matplotlib\n",
    "%matplotlib inline\n",
    "import matplotlib.pyplot as plt\n",
    "import numpy as np\n",
    "import pickle\n",
    "import random\n",
    "from scipy.stats import gaussian_kde\n",
    "import seaborn as sns\n",
    "import sympy as sp\n",
    "\n",
    "import importlib\n",
    "import toylosses\n",
    "importlib.reload(toylosses)\n",
    "import toynn\n",
    "importlib.reload(toynn)\n",
    "import toyvis\n",
    "importlib.reload(toyvis)\n",
    "\n",
    "\n",
    "import torch\n",
    "import torch.nn as tnn\n",
    "from torch.nn import functional as F\n",
    "sns.set()\n",
    "\n",
    "random.seed(0)\n",
    "np.random.seed(1)\n",
    "torch.manual_seed(0)\n",
    "torch.backends.cudnn.deterministic = True\n",
    "torch.backends.cudnn.benchmark = False"
   ]
  },
  {
   "cell_type": "code",
   "execution_count": null,
   "metadata": {
    "scrolled": true
   },
   "outputs": [],
   "source": [
    "# Mixture of FA / PPCA\n",
    "# Models parameters\n",
    "\n",
    "W = np.array([\n",
    "    [[2], [3]],  # W1\n",
    "    [[-1], [1]],  # W2\n",
    "    [[2], [1]]  # W3\n",
    "])\n",
    "\n",
    "mu = np.array([\n",
    "    [2, 3],  # mu1\n",
    "    [-1, 1],  # mu2\n",
    "    [2, 1]  # mu3\n",
    "])\n",
    "\n",
    "probabilities = np.array([0.1, 0.6, 0.3])\n",
    "# Sample latent variable, noise -> generate data\n",
    "n = 1000\n",
    "z = np.random.normal(size=(n, 1))\n",
    "s = 0.1\n",
    "eps = np.random.normal(loc=0, scale=s**2, size=(n, 2))  # PPCA because it is isotropic\n",
    "\n",
    "# Generative model\n",
    "c = np.random.choice([0, 1, 2], n, p=probabilities)\n",
    "\n",
    "mask = np.zeros((n, 3))\n",
    "for i in range(n): \n",
    "    mask[i] = c[i] == range(3)\n",
    "ws = np.einsum('nm, mij->nij', mask, W)\n",
    "mus = np.einsum('nm, mi->ni', mask, mu)\n",
    "x = np.einsum('nij,nj->ni', ws, z) \n",
    "x = x + mus + eps\n",
    "\n",
    "# Plot data\n",
    "plt.scatter(x[:, 0], x[:, 1])\n",
    "plt.axis('equal')"
   ]
  },
  {
   "cell_type": "markdown",
   "metadata": {},
   "source": [
    "## Generating synthetic data from 2D model: x = W^T z + mu + eps"
   ]
  },
  {
   "cell_type": "code",
   "execution_count": null,
   "metadata": {},
   "outputs": [],
   "source": [
    "# Models parameters\n",
    "w1 = 2\n",
    "w2 = 3\n",
    "W = np.array([[w1], [w2]])\n",
    "mu1 = -1\n",
    "mu2 = 1\n",
    "mu = np.array([mu1, mu2])\n",
    "print(mu.shape)\n",
    "\n",
    "# Sample latent variable, noise -> generate data\n",
    "n = 100\n",
    "z = np.random.normal(size=(n, 1))\n",
    "print(z.shape)\n",
    "s = 0.1\n",
    "eps = np.random.normal(loc=0, scale=s**2, size=(n, 2))  # PPCA because it is isotropic\n",
    "print(eps.shape)\n",
    "\n",
    "# Generative model\n",
    "x = np.einsum('ij,nj->ni', W, z) + mu + eps\n",
    "x = np.maximum(x, 0)  # ReLu \n",
    "print(x.shape)\n",
    "# Plot data\n",
    "plt.scatter(x[:, 0], x[:, 1])\n",
    "plt.axis('equal')\n",
    "\n",
    "# Adding a second layer\n",
    "v1 = -4\n",
    "v2 = 7\n",
    "V = np.array([[v1], [v2]])\n",
    "m1 = 3\n",
    "m2 = 5\n",
    "m = np.array([m1, m2])\n",
    "print(mu.shape)\n",
    "\n",
    "# Generative model\n",
    "h = np.einsum('ij,nj->ni', W, z) + mu\n",
    "h = np.maximum(h, 0)  # ReLu \n",
    "eps = np.random.normal(loc=0, scale=s**2, size=(n, 2))  # PPCA because it is isotropic\n",
    "x = np.einsum('ij,nj->ni', V, h) + m + eps\n",
    "x = np.maximum(x, 0)  # ReLu \n",
    "print(x.shape)\n",
    "# Plot data\n",
    "plt.figure()\n",
    "plt.scatter(x[:, 0], x[:, 1])\n",
    "plt.axis('equal')"
   ]
  },
  {
   "cell_type": "markdown",
   "metadata": {},
   "source": [
    "# Generate synthetic data from a VAE's decoder"
   ]
  },
  {
   "cell_type": "markdown",
   "metadata": {},
   "source": [
    "Examples of parameters for the decoder"
   ]
  },
  {
   "cell_type": "code",
   "execution_count": null,
   "metadata": {},
   "outputs": [],
   "source": [
    "w_true = {}\n",
    "b_true = {}\n",
    "\n",
    "w_true[0] = [[1.], [1.]]\n",
    "b_true[0] = [0., -1.]\n",
    "\n",
    "# For the reconstruction\n",
    "w_true[1] = [[2., 1.], [-1., 2.]]\n",
    "b_true[1] = [0., 0.]\n",
    "\n",
    "# For the scale\n",
    "w_true[2] = [[1., -1.], [0., 1.]]\n",
    "b_true[2] = [0., 0.]\n",
    "\n",
    "\n",
    "## Parameters 1\n",
    "\n",
    "w_true = {}\n",
    "b_true = {}\n",
    "\n",
    "# For the reconstruction\n",
    "w_true[0] = [[4.], [4.]]\n",
    "b_true[0] = [0., -0.]\n",
    "\n",
    "# For the scale\n",
    "w_true[1] = [[-0.], [-0.]]\n",
    "b_true[1] = [0., -0.]\n",
    "\n",
    "\n",
    "## Parameters 2\n",
    "DEVICE = 'cuda'\n",
    "\n",
    "data_dim = 1\n",
    "latent_dim = 1\n",
    "n_layers = 1\n",
    "nonlinearity = False\n",
    "n_samples = 10000\n",
    "with_biasx = False\n",
    "with_logvarx = False\n",
    "\n",
    "w_true = {}\n",
    "b_true = {}\n",
    "\n",
    "# For the reconstruction\n",
    "w_true[0] = [[2.]]\n",
    "if with_biasx:\n",
    "    b_true[0] = [[0.]]\n",
    "\n",
    "if with_logvarx:\n",
    "    # For the scale\n",
    "    w_true[1] = [[0.]]\n",
    "    b_true[1] = [[0.]]\n"
   ]
  },
  {
   "cell_type": "code",
   "execution_count": 328,
   "metadata": {},
   "outputs": [
    {
     "name": "stdout",
     "output_type": "stream",
     "text": [
      "layers.0.weight tensor([[2.]], device='cuda:0') \n",
      "\n",
      "Covariance matrix from decoder:\n",
      "4.925015160331548\n",
      "Covariance matrix from synthetic:\n",
      "5.016637077188237\n"
     ]
    },
    {
     "data": {
      "image/png": "[encoded data removed]",
      "text/plain": [
       "<Figure size 432x288 with 1 Axes>"
      ]
     },
     "metadata": {},
     "output_type": "display_data"
    }
   ],
   "source": [
    "DEVICE = 'cuda'\n",
    "\n",
    "data_dim = 1\n",
    "latent_dim = 1\n",
    "n_layers = 1\n",
    "nonlinearity = False\n",
    "n_samples = 10000\n",
    "with_biasx = False\n",
    "with_logvarx = False\n",
    "\n",
    "w_true = {}\n",
    "b_true = {}\n",
    "\n",
    "# For the reconstruction\n",
    "w_true[0] = [[2.]]\n",
    "if with_biasx:\n",
    "    b_true[0] = [[0.]]\n",
    "\n",
    "if with_logvarx:\n",
    "    # For the scale\n",
    "    w_true[1] = [[0.]]\n",
    "    b_true[1] = [[0.]]\n",
    "\n",
    "decoder_true = toynn.make_decoder_true(\n",
    "    w_true, b_true, latent_dim, data_dim, n_layers,\n",
    "    nonlinearity, with_biasx, with_logvarx)\n",
    "\n",
    "for name, param in decoder_true.named_parameters():\n",
    "    print(name, param.data, '\\n')\n",
    "    \n",
    "\n",
    "w_true = 2\n",
    "color_true = 'green'\n",
    "def generate_synthetic_1d(w=w_true, n=10):\n",
    "    z = np.random.normal(loc=0, scale=1, size=(n, 1))\n",
    "    eps = np.random.normal(loc=0, scale=1, size=(n, 1))\n",
    "\n",
    "    x = w * z + eps\n",
    "    return z, x\n",
    "\n",
    "#generated_x = toynn.generate_from_decoder(decoder_true, n_samples)\n",
    "_, synthetic_x = generate_synthetic_1d(w=w_true, n=n_samples)\n",
    "\n",
    "generated_x = np.load(os.path.join(SYNTHETIC_DIR, 'dataset.npy'))\n",
    "\n",
    "fig, ax = plt.subplots()\n",
    "ax = toyvis.plot_data(generated_x, color='green', label='from decoder true', ax=ax)\n",
    "ax = toyvis.plot_data(synthetic_x, color='green', label='from synthetic true', ax=ax)\n",
    "ax.legend(loc='upper right')\n",
    "\n",
    "print('Covariance matrix from decoder:')\n",
    "cov = np.cov(generated_x.T)\n",
    "print(cov)\n",
    "\n",
    "print('Covariance matrix from synthetic:')\n",
    "cov = np.cov(synthetic_x.T)\n",
    "print(cov)\n"
   ]
  },
  {
   "cell_type": "markdown",
   "metadata": {},
   "source": [
    "## Test loss functions"
   ]
  },
  {
   "cell_type": "markdown",
   "metadata": {},
   "source": [
    "From the unregularized VAE:\n",
    "\n",
    "\\begin{align*}\n",
    "    L_{ELBO} \n",
    "  = L_{UVAE} - KL_{prior}(\\phi) \n",
    "  = \\mathbb{E}_{p_{data}(x)}\\left[ \\mathbb{E}_{q_\\phi(z|x)} \\left[\\log p_\\theta(x|z)\\right] - KL\\left(q_\\phi(z|x) || p(z)\\right) \\right] \n",
    "\\end{align*}\n",
    "\n",
    "Where the $\\mathbb{E}$ is taken over the batch of data."
   ]
  },
  {
   "cell_type": "code",
   "execution_count": 329,
   "metadata": {},
   "outputs": [
    {
     "name": "stdout",
     "output_type": "stream",
     "text": [
      "1111 tensor(9.6517, device='cuda:0')\n",
      "2222 tensor(9.6517, device='cuda:0')\n"
     ]
    }
   ],
   "source": [
    "b_data = torch.Tensor(np.array([[0., 0., 0.], [0., 0., 0.]])).to(DEVICE)\n",
    "b_recon = torch.Tensor(np.array([[2., 2., 2.], [3., 3., 3.]])).to(DEVICE)\n",
    "\n",
    "b_logvarx = torch.Tensor(np.array([[np.log(1.)], [np.log(2.)]])).to(DEVICE)\n",
    "print('1111', toylosses.reconstruction_loss(b_data, b_recon, b_logvarx))\n",
    "\n",
    "#expected_ssd = tensor([12., 27.])\n",
    "#expected_ssd_term = tensor([-6.0000, -6.7500])\n",
    "\n",
    "b_data = torch.Tensor(np.array([[0., 0., 0.], [0., 0., 0.]])).to(DEVICE)\n",
    "b_recon = torch.Tensor(np.array([[2., 2., 2.], [3., 3., 3.]])).to(DEVICE)\n",
    "\n",
    "b_logvarx = torch.Tensor(\n",
    "    np.array(\n",
    "        [[np.log(1.), np.log(1.), np.log(1.)], \n",
    "         [np.log(2.), np.log(2.), np.log(2.)]])).to(DEVICE)\n",
    "print('2222', toylosses.reconstruction_loss(b_data, b_recon, b_logvarx))\n",
    "#1111 tensor(9.6517, device='cuda:0')\n",
    "#2222 tensor(9.6517, device='cuda:0')"
   ]
  },
  {
   "cell_type": "markdown",
   "metadata": {},
   "source": [
    "by modifying the VAE criterion and integrating GANs, we can provide a NN implementation of the variational EM.\n",
    "\n",
    "- Send a batch through the VAE\n",
    "- Compute the VAE loss: the reconstruction error and the regularization\n",
    "- back propagate through the entire VAE\n",
    "- update only the encoder: this will update it wrt to the -KL( || posterior), this is the E step of the variational EM.\n",
    "- Generate N data Z from the prior\n",
    "- Propagate through the decoder\n",
    "- Use a GAN to distinguish the distribution in $\\tilde x$ from N data from the true distribution: generate ONE sample Z, and ask the discriminator.\n",
    "- back propagate this through the decoder\n",
    "- update the decoder w.r.t. only this."
   ]
  },
  {
   "cell_type": "markdown",
   "metadata": {},
   "source": [
    "## Inspect results from standard VAE"
   ]
  },
  {
   "cell_type": "code",
   "execution_count": 338,
   "metadata": {},
   "outputs": [
    {
     "name": "stdout",
     "output_type": "stream",
     "text": [
      "-- True values of parameters\n",
      "layers.0.weight tensor([[2.]], device='cuda:0') \n",
      "\n",
      "\n",
      "-- Learnt values of parameters\n",
      "layers.0.weight tensor([[-1.1069]], device='cuda:0') \n",
      "\n",
      "Last losses:\n",
      "[0.04510449677705765, 0.04495921102166176, 0.04458578377962112, 0.044399454712867735, 0.044013446182012556]\n"
     ]
    },
    {
     "data": {
      "image/png": "[encoded data removed]",
      "text/plain": [
       "<Figure size 432x288 with 1 Axes>"
      ]
     },
     "metadata": {},
     "output_type": "display_data"
    }
   ],
   "source": [
    "PATH = '/scratch/users/nmiolane/toyoutput'\n",
    "\n",
    "decoder_true_path = glob.glob(f'{PATH}/synthetic/decoder_true.pth')[0]\n",
    "decoder_true = torch.load(decoder_true_path, map_location=DEVICE)\n",
    "\n",
    "decoder_path = glob.glob(f'{PATH}/train_vae/models/decoder.pth')[0]\n",
    "decoder = torch.load(decoder_path, map_location=DEVICE)\n",
    "\n",
    "print('-- True values of parameters')\n",
    "for name, param in decoder_true.named_parameters():\n",
    "    print(name, param.data, '\\n')\n",
    "\n",
    "decoder = modules['decoder']\n",
    "print('\\n-- Learnt values of parameters')\n",
    "for name, param in decoder.named_parameters():\n",
    "    print(name, param.data, '\\n')\n",
    "    \n",
    "losses_vae_path = glob.glob(f'{PATH}/train_vae/train_losses.pkl')[0]\n",
    "train_losses_all_epochs = pickle.load(open(losses_vae_path, 'rb'))\n",
    "\n",
    "plt.figure()\n",
    "train_losses_total = [loss['total'] for loss in train_losses_all_epochs]\n",
    "n_epochs = len(train_losses_total)\n",
    "plt.plot(range(n_epochs), train_losses_total)\n",
    "print('Last losses:')\n",
    "print(train_losses_total[-5:])"
   ]
  },
  {
   "cell_type": "code",
   "execution_count": 339,
   "metadata": {},
   "outputs": [
    {
     "data": {
      "text/plain": [
       "<matplotlib.axes._subplots.AxesSubplot at 0x7f6348370e10>"
      ]
     },
     "execution_count": 339,
     "metadata": {},
     "output_type": "execute_result"
    },
    {
     "data": {
      "image/png": "[encoded data removed]",
      "text/plain": [
       "<Figure size 1152x288 with 3 Axes>"
      ]
     },
     "metadata": {},
     "output_type": "display_data"
    }
   ],
   "source": [
    "n_samples = 1000\n",
    "generated_true_x = toynn.generate_from_decoder(decoder_true, n_samples)\n",
    "generated_x = toynn.generate_from_decoder(decoder, n_samples)\n",
    "\n",
    "# For 1D\n",
    "fig, axes = plt.subplots(ncols=3, nrows=1, figsize=(16, 4))\n",
    "axis_side = 20\n",
    "\n",
    "ax = axes[0]\n",
    "toyvis.plot_data(generated_true_x, color='darkgreen', ax=ax)\n",
    "\n",
    "ax = axes[1]\n",
    "toyvis.plot_data(generated_x, color='red', ax=ax)\n",
    "\n",
    "ax = axes[2]\n",
    "toyvis.plot_data(generated_true_x, color='darkgreen', ax=ax)\n",
    "toyvis.plot_data(generated_x, color='red', ax=ax)"
   ]
  },
  {
   "cell_type": "code",
   "execution_count": 241,
   "metadata": {},
   "outputs": [
    {
     "ename": "AttributeError",
     "evalue": "'str' object has no attribute 'hist'",
     "output_type": "error",
     "traceback": [
      "\u001b[0;31m-----------------------------------------------------------------\u001b[0m",
      "\u001b[0;31mAttributeError\u001b[0m                  Traceback (most recent call last)",
      "\u001b[0;32m<ipython-input-241-50e69de03614>\u001b[0m in \u001b[0;36m<module>\u001b[0;34m\u001b[0m\n\u001b[1;32m      4\u001b[0m \u001b[0;34m\u001b[0m\u001b[0m\n\u001b[1;32m      5\u001b[0m \u001b[0max\u001b[0m \u001b[0;34m=\u001b[0m \u001b[0maxes\u001b[0m\u001b[0;34m[\u001b[0m\u001b[0;36m0\u001b[0m\u001b[0;34m,\u001b[0m \u001b[0;36m0\u001b[0m\u001b[0;34m]\u001b[0m\u001b[0;34m\u001b[0m\u001b[0m\n\u001b[0;32m----> 6\u001b[0;31m \u001b[0mplot_data\u001b[0m\u001b[0;34m(\u001b[0m\u001b[0mgenerated_true_x\u001b[0m\u001b[0;34m,\u001b[0m \u001b[0maxis_side\u001b[0m\u001b[0;34m=\u001b[0m\u001b[0maxis_side\u001b[0m\u001b[0;34m,\u001b[0m \u001b[0mcolor\u001b[0m\u001b[0;34m=\u001b[0m\u001b[0;34m'darkgreen'\u001b[0m\u001b[0;34m)\u001b[0m\u001b[0;34m\u001b[0m\u001b[0m\n\u001b[0m\u001b[1;32m      7\u001b[0m \u001b[0;34m\u001b[0m\u001b[0m\n\u001b[1;32m      8\u001b[0m \u001b[0max\u001b[0m \u001b[0;34m=\u001b[0m \u001b[0maxes\u001b[0m\u001b[0;34m[\u001b[0m\u001b[0;36m0\u001b[0m\u001b[0;34m,\u001b[0m \u001b[0;36m1\u001b[0m\u001b[0;34m]\u001b[0m\u001b[0;34m\u001b[0m\u001b[0m\n",
      "\u001b[0;32m<ipython-input-215-75645f1c76f5>\u001b[0m in \u001b[0;36mplot_data\u001b[0;34m(x_data, color, axis_side, ax)\u001b[0m\n\u001b[1;32m     66\u001b[0m     \u001b[0m_\u001b[0m\u001b[0;34m,\u001b[0m \u001b[0mdata_dim\u001b[0m \u001b[0;34m=\u001b[0m \u001b[0mx_data\u001b[0m\u001b[0;34m.\u001b[0m\u001b[0mshape\u001b[0m\u001b[0;34m\u001b[0m\u001b[0m\n\u001b[1;32m     67\u001b[0m     \u001b[0;32mif\u001b[0m \u001b[0mdata_dim\u001b[0m \u001b[0;34m==\u001b[0m \u001b[0;36m1\u001b[0m\u001b[0;34m:\u001b[0m\u001b[0;34m\u001b[0m\u001b[0m\n\u001b[0;32m---> 68\u001b[0;31m         \u001b[0max\u001b[0m\u001b[0;34m.\u001b[0m\u001b[0mhist\u001b[0m\u001b[0;34m(\u001b[0m\u001b[0mx_data\u001b[0m\u001b[0;34m,\u001b[0m \u001b[0mbins\u001b[0m\u001b[0;34m=\u001b[0m\u001b[0mBINS\u001b[0m\u001b[0;34m,\u001b[0m \u001b[0malpha\u001b[0m\u001b[0;34m=\u001b[0m\u001b[0mALPHA\u001b[0m\u001b[0;34m,\u001b[0m \u001b[0mcolor\u001b[0m\u001b[0;34m=\u001b[0m\u001b[0mcolor\u001b[0m\u001b[0;34m,\u001b[0m \u001b[0mlabel\u001b[0m\u001b[0;34m=\u001b[0m\u001b[0;34m'from decoder true'\u001b[0m\u001b[0;34m)\u001b[0m\u001b[0;34m\u001b[0m\u001b[0m\n\u001b[0m\u001b[1;32m     69\u001b[0m     \u001b[0;32melse\u001b[0m\u001b[0;34m:\u001b[0m\u001b[0;34m\u001b[0m\u001b[0m\n\u001b[1;32m     70\u001b[0m         \u001b[0msns\u001b[0m\u001b[0;34m.\u001b[0m\u001b[0mscatterplot\u001b[0m\u001b[0;34m(\u001b[0m\u001b[0mgenerated_x\u001b[0m\u001b[0;34m[\u001b[0m\u001b[0;34m:\u001b[0m\u001b[0;34m,\u001b[0m \u001b[0;36m0\u001b[0m\u001b[0;34m]\u001b[0m\u001b[0;34m,\u001b[0m \u001b[0mgenerated_x\u001b[0m\u001b[0;34m[\u001b[0m\u001b[0;34m:\u001b[0m\u001b[0;34m,\u001b[0m \u001b[0;36m1\u001b[0m\u001b[0;34m]\u001b[0m\u001b[0;34m,\u001b[0m \u001b[0max\u001b[0m\u001b[0;34m=\u001b[0m\u001b[0max\u001b[0m\u001b[0;34m,\u001b[0m \u001b[0mcolor\u001b[0m\u001b[0;34m=\u001b[0m\u001b[0mcolor\u001b[0m\u001b[0;34m)\u001b[0m\u001b[0;34m\u001b[0m\u001b[0m\n",
      "\u001b[0;31mAttributeError\u001b[0m: 'str' object has no attribute 'hist'"
     ]
    },
    {
     "data": {
      "image/png": "[encoded data removed]",
      "text/plain": [
       "<Figure size 864x864 with 4 Axes>"
      ]
     },
     "metadata": {},
     "output_type": "display_data"
    }
   ],
   "source": [
    "# For 2D\n",
    "fig, axes = plt.subplots(ncols=2, nrows=2, figsize=(12, 12))\n",
    "axis_side = 20\n",
    "\n",
    "ax = axes[0, 0]\n",
    "plot_data(generated_true_x, color='darkgreen')\n",
    "\n",
    "ax = axes[0, 1]\n",
    "plot_data(generated_x, color='red')\n",
    "\n",
    "ax = axes[1, 0]\n",
    "plot_kde(generated_true_x, ax, 'Greens', axis_side)\n",
    "\n",
    "ax = axes[1, 1]\n",
    "plot_kde(generated_x, ax, 'Reds', axis_side)"
   ]
  },
  {
   "cell_type": "code",
   "execution_count": 20,
   "metadata": {},
   "outputs": [],
   "source": [
    "def risk(theta):\n",
    "    #loglikelihood_i = ... theta ...\n",
    "\n",
    "    n_samples = 1000\n",
    "    generated_true_x = generate_from_decoder(decoder_true, n_samples)\n",
    "    risk = - np.mean([loglikelihood_i.subs({x_i: sp.Matrix(x_elt)}) for x_elt in generated_true_x])\n",
    "    return risk"
   ]
  },
  {
   "cell_type": "markdown",
   "metadata": {},
   "source": [
    "## Inspect results from VEM"
   ]
  },
  {
   "cell_type": "code",
   "execution_count": 340,
   "metadata": {},
   "outputs": [
    {
     "name": "stdout",
     "output_type": "stream",
     "text": [
      "-- True values of parameters\n",
      "layers.0.weight tensor([[2.]], device='cuda:0') \n",
      "\n",
      "\n",
      "-- Learnt values of parameters\n",
      "layers.0.weight tensor([[-1.1069]], device='cuda:0') \n",
      "\n",
      "Last losses:\n",
      "[0.07946083056926727, 0.07973410743474961, 0.07932572066783905, 0.07929224586486816, 0.07929456669092179]\n"
     ]
    },
    {
     "data": {
      "image/png": "[encoded data removed]",
      "text/plain": [
       "<Figure size 432x288 with 1 Axes>"
      ]
     },
     "metadata": {},
     "output_type": "display_data"
    }
   ],
   "source": [
    "PATH = '/scratch/users/nmiolane/toyoutput'\n",
    "\n",
    "decoder_true_path = glob.glob(f'{PATH}/synthetic/decoder_true.pth')[0]\n",
    "decoder_true = torch.load(decoder_true_path, map_location=DEVICE)\n",
    "\n",
    "decoder_path = glob.glob(f'{PATH}/train_vem/models/decoder.pth')[0]\n",
    "decoder = torch.load(decoder_path, map_location=DEVICE)\n",
    "\n",
    "print('-- True values of parameters')\n",
    "for name, param in decoder_true.named_parameters():\n",
    "    print(name, param.data, '\\n')\n",
    "\n",
    "decoder = modules['decoder']\n",
    "print('\\n-- Learnt values of parameters')\n",
    "for name, param in decoder.named_parameters():\n",
    "    print(name, param.data, '\\n')\n",
    "    \n",
    "losses_vae_path = glob.glob(f'{PATH}/train_vem/train_losses.pkl')[0]\n",
    "train_losses_all_epochs = pickle.load(open(losses_vae_path, 'rb'))\n",
    "\n",
    "plt.figure()\n",
    "train_losses_total = [loss['total'] for loss in train_losses_all_epochs]\n",
    "n_epochs = len(train_losses_total)\n",
    "plt.plot(range(n_epochs), train_losses_total)\n",
    "print('Last losses:')\n",
    "print(train_losses_total[-5:])"
   ]
  },
  {
   "cell_type": "code",
   "execution_count": 342,
   "metadata": {},
   "outputs": [
    {
     "data": {
      "text/plain": [
       "<matplotlib.axes._subplots.AxesSubplot at 0x7f62d03b4320>"
      ]
     },
     "execution_count": 342,
     "metadata": {},
     "output_type": "execute_result"
    },
    {
     "data": {
      "image/png": "[encoded data removed]",
      "text/plain": [
       "<Figure size 1152x288 with 3 Axes>"
      ]
     },
     "metadata": {},
     "output_type": "display_data"
    }
   ],
   "source": [
    "n_samples = 1000\n",
    "generated_true_x = generate_from_decoder(decoder_true, n_samples)\n",
    "generated_x = generate_from_decoder(decoder, n_samples)\n",
    "\n",
    "# For 1D\n",
    "fig, axes = plt.subplots(ncols=3, nrows=1, figsize=(16, 4))\n",
    "axis_side = 20\n",
    "\n",
    "ax = axes[0]\n",
    "plot_data(generated_true_x, color='darkgreen', ax=ax)\n",
    "\n",
    "ax = axes[1]\n",
    "plot_data(generated_x, color='orange', ax=ax)\n",
    "\n",
    "ax = axes[2]\n",
    "plot_data(generated_true_x, color='darkgreen', ax=ax)\n",
    "plot_data(generated_x, color='orange', ax=ax)"
   ]
  }
 ],
 "metadata": {
  "kernelspec": {
   "display_name": "Python 3",
   "language": "python",
   "name": "python3"
  },
  "language_info": {
   "codemirror_mode": {
    "name": "ipython",
    "version": 3
   },
   "file_extension": ".py",
   "mimetype": "text/x-python",
   "name": "python",
   "nbconvert_exporter": "python",
   "pygments_lexer": "ipython3",
   "version": "3.6.5"
  }
 },
 "nbformat": 4,
 "nbformat_minor": 2
}
